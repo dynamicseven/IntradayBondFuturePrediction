{
 "cells": [
  {
   "cell_type": "markdown",
   "id": "be9b11a6",
   "metadata": {},
   "source": [
    "# Bond Future Intraday Price Movement Prediction"
   ]
  },
  {
   "cell_type": "markdown",
   "id": "8511848c",
   "metadata": {},
   "source": [
    "Roger Wang : hanyi.wang@wustl.edu"
   ]
  },
  {
   "cell_type": "code",
   "execution_count": 1,
   "id": "daf826b9",
   "metadata": {},
   "outputs": [],
   "source": [
    "import os\n",
    "from __future__ import print_function, absolute_import\n",
    "from gm.api import *\n",
    "import numpy as np\n",
    "import pandas as pd\n",
    "import pickle as pkl\n",
    "import math\n",
    "import matplotlib.pyplot as plt\n",
    "\n",
    "from sklearn.preprocessing import OneHotEncoder\n",
    "from sklearn.preprocessing import RobustScaler\n",
    "from sklearn.preprocessing import MinMaxScaler\n",
    "from sklearn.metrics import mean_squared_error\n",
    "from sklearn import metrics\n",
    "from keras.models import Sequential\n",
    "from keras.layers import Dense, Activation\n",
    "from keras.layers import LSTM, Dropout\n",
    "# 数据来源： 掘金量化SDK （https://www.myquant.cn/docs/guide/35#a0e2f0be08fe7317）\n",
    "# 可以直接提取数据，掘金终端需要打开，接口取数是通过网络请求的方式，效率一般，行情数据可通过subscribe订阅方式\n",
    "# 设置token， 查看已有token ID,在用户-秘钥管理里获取\n",
    "set_token('e225ffbe4f9b494a07932dc13aa9a161c78f3077')\n",
    "os.chdir(\"D:\\Guotai\")\n"
   ]
  },
  {
   "cell_type": "markdown",
   "id": "ecdf9aca",
   "metadata": {},
   "source": [
    "## Data"
   ]
  },
  {
   "cell_type": "code",
   "execution_count": 2,
   "id": "31b5e8cc",
   "metadata": {},
   "outputs": [],
   "source": [
    "start_time = '2020-02-23 09:30:00'\n",
    "end_time = '2021-05-21 15:15:00'\n",
    "df_T = history(symbol='CFFEX.T', frequency='60s', start_time=start_time, end_time=end_time,\n",
    "                fields='symbol,frequency,open,close,high,low,amount,volume,position,bob,eob', adjust=ADJUST_PREV, adjust_end_time='2021-06-01', df=True)\n",
    "\n",
    "data = df_T\n"
   ]
  },
  {
   "cell_type": "markdown",
   "id": "affda313",
   "metadata": {},
   "source": [
    "### Out of Sample Data"
   ]
  },
  {
   "cell_type": "code",
   "execution_count": 3,
   "id": "c7e5297b",
   "metadata": {},
   "outputs": [],
   "source": [
    "# start_time_out = '2021-06-01 09:30:00'\n",
    "# end_time_out = '2021-06-03 15:15:00'\n",
    "# df_o = history(symbol='CFFEX.T', frequency='60s', start_time=start_time_out, end_time=end_time_out,\n",
    "#                 fields='symbol,frequency,open,close,high,low,amount,volume,position,bob,eob', adjust=ADJUST_PREV, adjust_end_time='2021-06-01', df=True)\n"
   ]
  },
  {
   "cell_type": "markdown",
   "id": "4777c4f1",
   "metadata": {},
   "source": [
    "## Preprocessing"
   ]
  },
  {
   "cell_type": "code",
   "execution_count": 4,
   "id": "c421fced",
   "metadata": {},
   "outputs": [],
   "source": [
    "# nulls = data.isnull().sum() / data.shape[0]\n",
    "# for i in range(0, 10):\n",
    "#     print(\n",
    "#             f'{len(nulls[nulls.values <= (i / 100)]) * 100 / len(nulls)}% columns have null values less than {i * 1}% rows')"
   ]
  },
  {
   "cell_type": "markdown",
   "id": "bdd05d57",
   "metadata": {},
   "source": [
    "## Feature Construction"
   ]
  },
  {
   "cell_type": "markdown",
   "id": "422d780b",
   "metadata": {},
   "source": [
    "#### Delta"
   ]
  },
  {
   "cell_type": "code",
   "execution_count": 5,
   "id": "4e984103",
   "metadata": {},
   "outputs": [],
   "source": [
    "# Create Delta Variable\n",
    "\n",
    "df_temp = data\n",
    "\n",
    "delta = np.zeros(len(df_temp['close']))\n",
    "for i in range(1,len(df_temp['close'])):\n",
    "    \n",
    "    lastItem = df_temp['close'][i-1]\n",
    "    diff = df_temp['close'][i] - lastItem\n",
    "    delta[i] = diff\n",
    "delta = pd.DataFrame(delta)\n",
    "df_temp['delta'] = delta\n",
    "\n",
    "df_T = df_temp"
   ]
  },
  {
   "cell_type": "code",
   "execution_count": 6,
   "id": "76700a78",
   "metadata": {},
   "outputs": [],
   "source": [
    "# print(df_T.head())"
   ]
  },
  {
   "cell_type": "markdown",
   "id": "60818d1f",
   "metadata": {},
   "source": [
    "### RSI"
   ]
  },
  {
   "cell_type": "code",
   "execution_count": 7,
   "id": "a18714d8",
   "metadata": {},
   "outputs": [],
   "source": [
    "dUp,dDown = delta.copy(),delta.copy()\n",
    "dUp[dUp < 0] = 0\n",
    "dDown[dDown > 0] = 0\n",
    "window = 15 # RSI window length\n",
    "\n",
    "# Simple moving average\n",
    "rollUp_s = dUp.rolling(window).mean()\n",
    "rollDown_s = dDown.rolling(window).mean().abs()\n",
    "\n",
    "# Exponential moving average\n",
    "rollUp_e = dUp.ewm(span = window).mean()\n",
    "rollDown_e = dDown.abs().ewm(span = window).mean()\n"
   ]
  },
  {
   "cell_type": "code",
   "execution_count": 8,
   "id": "57ca86aa",
   "metadata": {},
   "outputs": [],
   "source": [
    "RSI_EMA = rollUp_e / (rollUp_e + rollDown_e) * 100 # RSI for exponential moving average\n",
    "RSI_EMA = pd.DataFrame(RSI_EMA) \n",
    "RSI_SMA = rollUp_s / (rollUp_s + rollDown_s) * 100\n",
    "RSI_SMA = pd.DataFrame(RSI_SMA)\n",
    "# print(\"Exponential Moving average RSI (More Sensitive):\")\n",
    "# print(RSI_EMA.head(window))\n",
    "# print(\"Simple Moving average RSI:\")\n",
    "# print(RSI_SMA.head(window))\n",
    "\n",
    "#================= RSI feature Constructed =================\n",
    "data['RSI_E'] = RSI_EMA\n",
    "data['RSI_S'] = RSI_SMA\n",
    "# 这里之后可以换成一个feature不用两个RSI都用， but也没太大所谓反正电费不要钱"
   ]
  },
  {
   "cell_type": "markdown",
   "id": "7c9e036b",
   "metadata": {},
   "source": [
    "#### RSI Indicator"
   ]
  },
  {
   "cell_type": "code",
   "execution_count": 9,
   "id": "ea82e924",
   "metadata": {},
   "outputs": [],
   "source": [
    "upBar = 80\n",
    "lowBar = 20\n",
    "alarm_RSIe,alarm_RSIs = np.zeros(len(RSI_EMA)),np.zeros(len(RSI_SMA))\n",
    "alarm_RSIe,alarm_RSIs = pd.DataFrame(alarm_RSIe),pd.DataFrame(alarm_RSIs)\n",
    "\n",
    "# 之后可以再加入多个层级的分几层支撑\n",
    "\n",
    "alarm_RSIe[RSI_EMA >= 80] = -2\n",
    "# alarm_RSIe[RSI_EMA >= 70] = -1\n",
    "# alarm_RSIe[RSI_EMA <= 30] = 1\n",
    "alarm_RSIe[RSI_EMA <= 20] = 2\n",
    "\n",
    "alarm_RSIs[RSI_SMA >= 80] = -2\n",
    "# alarm_RSIs[RSI_SMA >= 70] = -1\n",
    "# alarm_RSIs[RSI_SMA <= 30] = 1\n",
    "alarm_RSIs[RSI_SMA <= 20] = 2\n",
    "\n",
    "\n",
    "# np.count_nonzero(alarm_RSIe)\n",
    "# np.count_nonzero(alarm_RSIs)\n",
    "alarm_RSIe.count()\n",
    "\n",
    "#================= RSI Alarm feature Constructed =================\n",
    "data['alarm_RSIs'] = alarm_RSIs\n",
    "data['alarm_RSIe'] = alarm_RSIe\n",
    "# 这里之后可以换成一个feature不用两个RSI都用， but也没太大所谓反正电费不要钱"
   ]
  },
  {
   "cell_type": "markdown",
   "id": "ef36c2be",
   "metadata": {},
   "source": [
    "上面这个暂时有点问题，需要加一个visualization来看一下，不要RSI再震荡或者徘徊的时候也发出乱七八糟的信号，\n",
    "\n",
    "其实这个地方的分类有些类似于康总说的分行情情况选取策略，"
   ]
  },
  {
   "cell_type": "markdown",
   "id": "50c9c59c",
   "metadata": {},
   "source": [
    "### OHLC_avg"
   ]
  },
  {
   "cell_type": "code",
   "execution_count": 10,
   "id": "553b1f42",
   "metadata": {},
   "outputs": [],
   "source": [
    "# OHCL Open-High-CLose-Low Avg Feature construction\n",
    "\n",
    "#np.random.seed(10)\n",
    "OHLC_avg = data[['open', 'close', 'high', 'low']].mean(axis=1)\n",
    "HLC_avg = data[['high', 'low', 'close']].mean(axis=1)\n",
    "close_val = data[['close']]\n",
    "\n",
    "#================= OHLC_avg feature Constructed =================\n",
    "data['OHLC_avg'] = OHLC_avg "
   ]
  },
  {
   "cell_type": "markdown",
   "id": "2d865186",
   "metadata": {},
   "source": [
    "#### Visualize OHLC"
   ]
  },
  {
   "cell_type": "code",
   "execution_count": 11,
   "id": "5eefe246",
   "metadata": {},
   "outputs": [],
   "source": [
    "# # plotting data and compare\n",
    "# obs = np.arange(1,len(df_T)+1,1)\n",
    "# #====================================================\n",
    "# plt.plot(obs, OHLC_avg, 'r', label = 'OHLC avg')\n",
    "# #plt.plot(obs, HLC_avg, 'b', label = 'HLC avg')\n",
    "# plt.plot(obs, close_val, 'g', label = 'Closing price')\n",
    "# plt.legend(loc = 'upper right')\n",
    "# plt.show()"
   ]
  },
  {
   "cell_type": "code",
   "execution_count": 12,
   "id": "dc689208",
   "metadata": {},
   "outputs": [],
   "source": [
    "\n",
    "# scaler = MinMaxScaler()\n",
    "# OHLC_scaled = np.reshape(OHLC_avg.values,(len(OHLC_avg),1))\n",
    "# OHLC_scaled = scaler.fit_transform(np.array(OHLC_avg).reshape(-1, 1))\n",
    "# #OHLC_scaled = pd.DataFrame(OHLC_scaled)\n",
    "\n"
   ]
  },
  {
   "cell_type": "markdown",
   "id": "415e42a7",
   "metadata": {},
   "source": [
    "### TS / TF"
   ]
  },
  {
   "cell_type": "markdown",
   "id": "cd521622",
   "metadata": {},
   "source": [
    "以跨品种国债期货合约走势为因子进行判断"
   ]
  },
  {
   "cell_type": "code",
   "execution_count": 13,
   "id": "60bda4aa",
   "metadata": {},
   "outputs": [],
   "source": [
    "# # 两年期国债期货\n",
    "# df_TS = history(symbol='CFFEX.TS', frequency='60s', start_time=start_time, end_time=end_time,\n",
    "#                 fields='symbol,frequency,open,close,high,low,amount,volume,position,bob,eob', adjust=ADJUST_PREV, adjust_end_time='2021-06-01', df=True)\n",
    "# # 五年期国债期货\n",
    "# df_TF  = history(symbol='CFFEX.TF', frequency='60s', start_time=start_time, end_time=end_time,\n",
    "#                 fields='symbol,frequency,open,close,high,low,amount,volume,position,bob,eob', adjust=ADJUST_PREV, adjust_end_time='2021-06-01', df=True)\n"
   ]
  },
  {
   "cell_type": "markdown",
   "id": "920804ed",
   "metadata": {},
   "source": [
    "### BBIBOLL"
   ]
  },
  {
   "cell_type": "code",
   "execution_count": null,
   "id": "5d350e79",
   "metadata": {},
   "outputs": [],
   "source": []
  },
  {
   "cell_type": "markdown",
   "id": "5c22f0c8",
   "metadata": {},
   "source": []
  },
  {
   "cell_type": "markdown",
   "id": "2b8fb36e",
   "metadata": {},
   "source": [
    "### Standard Deviation"
   ]
  },
  {
   "cell_type": "markdown",
   "id": "e8185ec3",
   "metadata": {},
   "source": [
    "#### 涨跌幅 Std"
   ]
  },
  {
   "cell_type": "code",
   "execution_count": 14,
   "id": "eda4932f",
   "metadata": {},
   "outputs": [],
   "source": [
    "interval = window # Subject to change"
   ]
  },
  {
   "cell_type": "code",
   "execution_count": 15,
   "id": "0ce8b801",
   "metadata": {},
   "outputs": [],
   "source": [
    "var_delta = pd.DataFrame(delta.rolling(interval).std())\n",
    "data['var_delta'] = var_delta"
   ]
  },
  {
   "cell_type": "markdown",
   "id": "0879ece0",
   "metadata": {},
   "source": [
    "#### OHLC Std"
   ]
  },
  {
   "cell_type": "code",
   "execution_count": 16,
   "id": "f0855614",
   "metadata": {},
   "outputs": [],
   "source": [
    "var_OHLCavg = OHLC_avg.rolling(interval).std()\n",
    "data['std_OHLCavg'] = var_OHLCavg "
   ]
  },
  {
   "cell_type": "markdown",
   "id": "684b4187",
   "metadata": {},
   "source": [
    "### World Quant Alphas"
   ]
  },
  {
   "cell_type": "markdown",
   "id": "ba88edaa",
   "metadata": {},
   "source": [
    "reference : World Quant Alpha 101 (https://arxiv.org/ftp/arxiv/papers/1601/1601.00991.pdf)"
   ]
  },
  {
   "cell_type": "markdown",
   "id": "81021935",
   "metadata": {},
   "source": [
    "#### Helper Function"
   ]
  },
  {
   "cell_type": "code",
   "execution_count": 17,
   "id": "e76e1c33",
   "metadata": {},
   "outputs": [],
   "source": [
    "#\n",
    "def a_ret(open,close):\n",
    "    haha = np.log(open) - np.log(close)**2\n",
    "    return haha"
   ]
  },
  {
   "cell_type": "code",
   "execution_count": 18,
   "id": "b8d384c5",
   "metadata": {},
   "outputs": [],
   "source": [
    "def a_sum(target,days):\n",
    "    res = [0]* len(target)\n",
    "    for i in range(days-1,len(target)):\n",
    "        res[i] = target.rolling(days).sum()\n",
    "    return res\n",
    "       "
   ]
  },
  {
   "cell_type": "code",
   "execution_count": 19,
   "id": "6e258b8c",
   "metadata": {},
   "outputs": [],
   "source": [
    "# rank(x) = cross-sectional rank \n",
    "def a_rank(x):\n",
    "    res = np.array(pd.DataFrame(x).rank(pct=True)).squeeze().tolist()\n",
    "    return res"
   ]
  },
  {
   "cell_type": "code",
   "execution_count": 20,
   "id": "60e7c021",
   "metadata": {},
   "outputs": [],
   "source": [
    "# correlation(x, y, d) = time-serial correlation of x and y for the past d days\n",
    "def a_cor(x,y,d):\n",
    "    res = [0] * len(x)\n",
    "    for i in range(d-1,len(x)):\n",
    "        res[i] = np.correlate(x[i-d+1:i],y[i-d+1:i])\n",
    "\n",
    "    return res\n",
    "    "
   ]
  },
  {
   "cell_type": "code",
   "execution_count": 21,
   "id": "f52135e3",
   "metadata": {},
   "outputs": [],
   "source": [
    "# adv(d) = average daily dollar volume for the past d days\n",
    "def a_adv(vol,d):\n",
    "    res = [0]* len(vol)\n",
    "    res = vol.rolling(d).mean()\n",
    "    return res\n",
    "    \n",
    "  "
   ]
  },
  {
   "cell_type": "code",
   "execution_count": 22,
   "id": "2c487de2",
   "metadata": {},
   "outputs": [],
   "source": [
    "# delta(x, d) = today’s value of x minus the value of x d days ago \n",
    "def a_delta(x,d):\n",
    "    res = [0]* len(x)\n",
    "    for i in range(0,len(x)-d-1):\n",
    "        res[i+d] = x[i+d] - x[i]\n",
    "    return res"
   ]
  },
  {
   "cell_type": "markdown",
   "id": "67529aa2",
   "metadata": {},
   "source": [
    "#### Alpha #101"
   ]
  },
  {
   "cell_type": "markdown",
   "id": "2396e7aa",
   "metadata": {},
   "source": [
    " ((close - open) / ((high - low) + .001)) 你最简单"
   ]
  },
  {
   "cell_type": "code",
   "execution_count": 23,
   "id": "5e561619",
   "metadata": {},
   "outputs": [],
   "source": [
    "a_101 = (data['close'] - data['open'])/((data['high'] - data['low']) + 0.001)\n",
    "data['a_101'] = pd.DataFrame(a_101)"
   ]
  },
  {
   "cell_type": "markdown",
   "id": "66783ba5",
   "metadata": {},
   "source": [
    "#### Alpha #028 "
   ]
  },
  {
   "cell_type": "markdown",
   "id": "8297d438",
   "metadata": {},
   "source": [
    " scale(((correlation(adv20, low, 5) + ((high + low) / 2)) - close)) 影线"
   ]
  },
  {
   "cell_type": "code",
   "execution_count": 24,
   "id": "f555eb5b",
   "metadata": {},
   "outputs": [],
   "source": [
    "adv = a_adv(data['amount'],10)\n",
    "a_028 = np.array(a_cor(adv[0:],data['low'][0:],5),dtype = np.float)\n",
    "data['a_028'] = a_028\n",
    "# data['a_028'].head(window)"
   ]
  },
  {
   "cell_type": "markdown",
   "id": "236be39a",
   "metadata": {},
   "source": [
    "#### Alpha #006"
   ]
  },
  {
   "cell_type": "markdown",
   "id": "bcb36502",
   "metadata": {},
   "source": [
    " (-1 * correlation(open, volume, 10))  price-volume relationship 价量关系"
   ]
  },
  {
   "cell_type": "code",
   "execution_count": 25,
   "id": "11435d60",
   "metadata": {},
   "outputs": [],
   "source": [
    "a_006 = a_cor(data['open'],data['amount'],10)\n",
    "data['a_006'] = np.array(a_006,dtype = np.float)\n",
    "#data['a_006'].head(window)"
   ]
  },
  {
   "cell_type": "markdown",
   "id": "5562867e",
   "metadata": {},
   "source": [
    "#### Alpha #"
   ]
  },
  {
   "cell_type": "markdown",
   "id": "9675e2a0",
   "metadata": {},
   "source": [
    "## Data Preparation"
   ]
  },
  {
   "cell_type": "markdown",
   "id": "7be7f9e7",
   "metadata": {},
   "source": [
    "#### Prepare X"
   ]
  },
  {
   "cell_type": "code",
   "execution_count": 26,
   "id": "3fd5683d",
   "metadata": {},
   "outputs": [
    {
     "name": "stdout",
     "output_type": "stream",
     "text": [
      "      open    close     high      low      amount  volume  position  delta  \\\n",
      "0  100.415  100.420  100.430  100.415  1.5063e+08     150     56105  0.000   \n",
      "1  100.420  100.395  100.420  100.385  5.4617e+08     544     55997 -0.025   \n",
      "2  100.395  100.380  100.405  100.380  3.5038e+08     349     55908 -0.015   \n",
      "3  100.380  100.400  100.405  100.380  1.9979e+08     199     55935  0.020   \n",
      "4  100.395  100.410  100.415  100.395  1.8274e+08     182     55946  0.010   \n",
      "\n",
      "     RSI_E    RSI_S  alarm_RSIs  alarm_RSIe  OHLC_avg  var_delta  std_OHLCavg  \\\n",
      "0  37.8460  43.5893         0.0         0.0  100.4200     0.0202       0.0117   \n",
      "1  26.1027  27.0249         0.0         0.0  100.4050     0.0183       0.0126   \n",
      "2  21.5236  34.4804         0.0         0.0  100.3900     0.0126       0.0161   \n",
      "3  38.0801  38.7114         0.0         0.0  100.3912     0.0136       0.0187   \n",
      "4  44.7419  43.7515         0.0         0.0  100.4037     0.0139       0.0195   \n",
      "\n",
      "    a_101       a_028       a_006  \n",
      "0  0.3123  7.9176e+10  1.1600e+11  \n",
      "1 -0.6946  6.7071e+10  1.1720e+11  \n",
      "2 -0.5769  6.2785e+10  1.6438e+11  \n",
      "3  0.7693  6.5959e+10  1.9018e+11  \n",
      "4  0.7145  7.1272e+10  1.7997e+11  \n"
     ]
    }
   ],
   "source": [
    "data_x = data.drop(['symbol','frequency','bob','eob'],axis = 1)\n",
    "data_x = data_x[window:] # drop null for variance and RSI\n",
    "\n",
    "\n",
    "data_x.reset_index(drop = True,inplace = True)\n",
    "print(data_x.head())"
   ]
  },
  {
   "cell_type": "markdown",
   "id": "2b506ebe",
   "metadata": {},
   "source": [
    "#### Prepare Y"
   ]
  },
  {
   "cell_type": "markdown",
   "id": "e6b2bed1",
   "metadata": {},
   "source": [
    "注意在构建Y4的时候我们对于下跌预测有倾向性，如果同时满足在下一分钟上涨两个tick或者下跌两个tick优先选择预测下跌两个tick"
   ]
  },
  {
   "cell_type": "code",
   "execution_count": 27,
   "id": "489f9894",
   "metadata": {},
   "outputs": [
    {
     "name": "stdout",
     "output_type": "stream",
     "text": [
      "haha\n"
     ]
    },
    {
     "data": {
      "text/html": [
       "<div>\n",
       "<style scoped>\n",
       "    .dataframe tbody tr th:only-of-type {\n",
       "        vertical-align: middle;\n",
       "    }\n",
       "\n",
       "    .dataframe tbody tr th {\n",
       "        vertical-align: top;\n",
       "    }\n",
       "\n",
       "    .dataframe thead th {\n",
       "        text-align: right;\n",
       "    }\n",
       "</style>\n",
       "<table border=\"1\" class=\"dataframe\">\n",
       "  <thead>\n",
       "    <tr style=\"text-align: right;\">\n",
       "      <th></th>\n",
       "      <th>y1</th>\n",
       "      <th>y2</th>\n",
       "      <th>y3</th>\n",
       "      <th>y4</th>\n",
       "    </tr>\n",
       "  </thead>\n",
       "  <tbody>\n",
       "    <tr>\n",
       "      <th>0</th>\n",
       "      <td>0.000</td>\n",
       "      <td>-0.035</td>\n",
       "      <td>-1.5001e-02</td>\n",
       "      <td>-1</td>\n",
       "    </tr>\n",
       "    <tr>\n",
       "      <th>1</th>\n",
       "      <td>0.010</td>\n",
       "      <td>-0.015</td>\n",
       "      <td>-1.5001e-02</td>\n",
       "      <td>-1</td>\n",
       "    </tr>\n",
       "    <tr>\n",
       "      <th>2</th>\n",
       "      <td>0.025</td>\n",
       "      <td>0.000</td>\n",
       "      <td>1.2512e-03</td>\n",
       "      <td>1</td>\n",
       "    </tr>\n",
       "    <tr>\n",
       "      <th>3</th>\n",
       "      <td>0.015</td>\n",
       "      <td>-0.005</td>\n",
       "      <td>1.2501e-02</td>\n",
       "      <td>1</td>\n",
       "    </tr>\n",
       "    <tr>\n",
       "      <th>4</th>\n",
       "      <td>0.005</td>\n",
       "      <td>-0.020</td>\n",
       "      <td>1.9073e-06</td>\n",
       "      <td>-1</td>\n",
       "    </tr>\n",
       "  </tbody>\n",
       "</table>\n",
       "</div>"
      ],
      "text/plain": [
       "      y1     y2          y3  y4\n",
       "0  0.000 -0.035 -1.5001e-02  -1\n",
       "1  0.010 -0.015 -1.5001e-02  -1\n",
       "2  0.025  0.000  1.2512e-03   1\n",
       "3  0.015 -0.005  1.2501e-02   1\n",
       "4  0.005 -0.020  1.9073e-06  -1"
      ]
     },
     "execution_count": 27,
     "metadata": {},
     "output_type": "execute_result"
    }
   ],
   "source": [
    "data_temp = data_x\n",
    "\n",
    "y1 = [0] * len(data_temp)\n",
    "y2 = [0] * len(data_temp)\n",
    "y3 = [0] * len(data_temp)\n",
    "y4 = [0] * len(data_temp)\n",
    "for i in range(0,len(data_temp)-1):\n",
    "    y1[i] = data_temp['high'][i+1] - data_temp['close'][i]\n",
    "    y2[i] = data_temp['low'][i+1] - data_temp['close'][i]\n",
    "    y3[i] = (data_temp['open'][i+1]+data_temp['close'][i+1]+data_temp['low'][i+1]+data_temp['high'][i+1])/4 - (data_temp['open'][i]+data_temp['close'][i]+data_temp['low'][i]+data_temp['high'][i])/4\n",
    "    if  y2[i] <= -0.01:\n",
    "        y4[i] = -1\n",
    "    elif y1[i] >= 0.01:\n",
    "        y4[i] = 1\n",
    "    \n",
    "    else:\n",
    "        y4[i] = 0\n",
    "    \n",
    "print(\"haha\")\n",
    "y1,y2,y3,y4 = pd.DataFrame(y1),pd.DataFrame(y2),pd.DataFrame(y3),pd.DataFrame(y4)\n",
    "data_y = pd.concat([y1,y2,y3,y4],axis = 1)\n",
    "data_y.columns = ['y1','y2','y3','y4']\n",
    "\n",
    "output_count = data_y.shape[1]  # number of outputs\n",
    "\n",
    "data_y.head()"
   ]
  },
  {
   "cell_type": "code",
   "execution_count": 28,
   "id": "0e44eff3",
   "metadata": {},
   "outputs": [
    {
     "data": {
      "text/plain": [
       "<bound method NDFrame.head of        ['movement']_-1  ['movement']_0  ['movement']_1\n",
       "0                    1               0               0\n",
       "1                    1               0               0\n",
       "2                    0               0               1\n",
       "3                    0               0               1\n",
       "4                    1               0               0\n",
       "...                ...             ...             ...\n",
       "78720                0               1               0\n",
       "78721                0               0               1\n",
       "78722                0               1               0\n",
       "78723                0               1               0\n",
       "78724                1               0               0\n",
       "\n",
       "[78725 rows x 3 columns]>"
      ]
     },
     "execution_count": 28,
     "metadata": {},
     "output_type": "execute_result"
    }
   ],
   "source": [
    "# One hot encoding\n",
    "pd.get_dummies(data_y['y4'],prefix =['movement'])\n",
    "data_y_mov = pd.get_dummies(data_y['y4'],prefix =['movement'])\n",
    "data_y_mov = data_y_mov[:-1]\n",
    "data_y_mov.head"
   ]
  },
  {
   "cell_type": "markdown",
   "id": "0335613f",
   "metadata": {},
   "source": [
    "#### Check balance"
   ]
  },
  {
   "cell_type": "code",
   "execution_count": 29,
   "id": "df2b1bf1",
   "metadata": {},
   "outputs": [
    {
     "data": {
      "text/plain": [
       "-1    28567\n",
       " 1    25611\n",
       " 0    24548\n",
       "Name: y4, dtype: int64"
      ]
     },
     "execution_count": 29,
     "metadata": {},
     "output_type": "execute_result"
    }
   ],
   "source": [
    "data_y['y4'].value_counts()"
   ]
  },
  {
   "cell_type": "markdown",
   "id": "ab9b2cd0",
   "metadata": {},
   "source": [
    "#### Scaling"
   ]
  },
  {
   "cell_type": "code",
   "execution_count": 30,
   "id": "a1ef9f0c",
   "metadata": {},
   "outputs": [],
   "source": [
    "scaler1 = MinMaxScaler(feature_range = (-1,1))\n",
    "scaler2 = MinMaxScaler(feature_range = (0,1))\n",
    "\n",
    "#s1_col = ['delta','alarm_RSIs','alarm_RSIe']\n",
    "\n",
    "x_neg = data_x[['delta','alarm_RSIs','alarm_RSIe']]\n",
    "x_pos = data_x.drop('delta',axis = 1).drop('alarm_RSIs',axis = 1).drop('alarm_RSIe',axis = 1)\n",
    "\n",
    "scaler1 = scaler1.fit(x_neg)\n",
    "scaler2 = scaler2.fit(x_pos)\n",
    "\n",
    "x_neg = np.reshape(x_neg.values,(x_neg.shape[0],x_neg.shape[1]))\n",
    "x_neg_scaled = scaler1.transform(x_neg)\n"
   ]
  },
  {
   "cell_type": "code",
   "execution_count": 31,
   "id": "72a87887",
   "metadata": {},
   "outputs": [],
   "source": [
    "x_pos = np.reshape(x_pos.values,(x_pos.shape[0],x_pos.shape[1]))\n",
    "x_pos_scaled = scaler2.transform(x_pos)\n",
    "\n"
   ]
  },
  {
   "cell_type": "code",
   "execution_count": 32,
   "id": "5e2c7539",
   "metadata": {},
   "outputs": [
    {
     "name": "stdout",
     "output_type": "stream",
     "text": [
      "(78726, 3)\n",
      "(78726, 15)\n"
     ]
    }
   ],
   "source": [
    "print(x_neg_scaled.shape)\n",
    "print(x_pos_scaled.shape)"
   ]
  },
  {
   "cell_type": "code",
   "execution_count": 33,
   "id": "45a2c870",
   "metadata": {},
   "outputs": [],
   "source": [
    "data_x_scaled = np.concatenate((x_pos_scaled,x_neg_scaled),axis = 1)"
   ]
  },
  {
   "cell_type": "code",
   "execution_count": 34,
   "id": "3c9f62ab",
   "metadata": {},
   "outputs": [],
   "source": [
    "scaler3 = MinMaxScaler(feature_range = (0,1)) # 因为这个价格大部分情况是单边的所以应该是01范围的区间\n",
    "scaler3 = scaler3.fit(data_y)\n",
    "data_y_scaled = scaler3.transform(data_y)"
   ]
  },
  {
   "cell_type": "code",
   "execution_count": 35,
   "id": "a46e670f",
   "metadata": {},
   "outputs": [
    {
     "name": "stdout",
     "output_type": "stream",
     "text": [
      "(78726, 4)\n"
     ]
    }
   ],
   "source": [
    "print(data_y_scaled.shape)"
   ]
  },
  {
   "cell_type": "markdown",
   "id": "e798c781",
   "metadata": {},
   "source": [
    "#### Test/Train Split"
   ]
  },
  {
   "cell_type": "code",
   "execution_count": 36,
   "id": "74f5e08a",
   "metadata": {},
   "outputs": [],
   "source": [
    "#data_scaled = np.concatenate((data_x_scaled,data_y_scaled),axis = 1)\n",
    "index = int(len(data_x_scaled) * 0.75)\n",
    "x_train = data_x_scaled[0:index]\n",
    "x_test = data_x_scaled[index:-1] #last one no target\n",
    "y_train = data_y_scaled[0:index]\n",
    "y_test = data_y_scaled[index:-1] \n",
    "y_train_mov = np.array(data_y_mov[0:index])\n",
    "y_test_mov = np.array(data_y_mov[index:])"
   ]
  },
  {
   "cell_type": "code",
   "execution_count": 37,
   "id": "87b55f0a",
   "metadata": {},
   "outputs": [
    {
     "data": {
      "text/plain": [
       "19681"
      ]
     },
     "execution_count": 37,
     "metadata": {},
     "output_type": "execute_result"
    }
   ],
   "source": [
    "len(y_test_mov)"
   ]
  },
  {
   "cell_type": "markdown",
   "id": "1170cc02",
   "metadata": {},
   "source": [
    "#### Check Training Set Balance"
   ]
  },
  {
   "cell_type": "code",
   "execution_count": 38,
   "id": "cec117e5",
   "metadata": {},
   "outputs": [],
   "source": [
    "# y_test_mov.describe()"
   ]
  },
  {
   "cell_type": "code",
   "execution_count": 39,
   "id": "41d1ace8",
   "metadata": {},
   "outputs": [],
   "source": [
    "# Reshape Data\n",
    "x_train = np.reshape(x_train,(x_train.shape[0],1,x_train.shape[1]))\n",
    "x_test = np.reshape(x_test,(x_test.shape[0],1,x_test.shape[1]))"
   ]
  },
  {
   "cell_type": "markdown",
   "id": "75ca6cd3",
   "metadata": {},
   "source": [
    " ### Examine Data Before Train"
   ]
  },
  {
   "cell_type": "markdown",
   "id": "14e0e113",
   "metadata": {},
   "source": [
    "## Model Construction"
   ]
  },
  {
   "cell_type": "markdown",
   "id": "8badef14",
   "metadata": {},
   "source": [
    "### LSTM"
   ]
  },
  {
   "cell_type": "code",
   "execution_count": 48,
   "id": "0fec01b6",
   "metadata": {},
   "outputs": [],
   "source": [
    "step_size = 1\n",
    "model = Sequential()\n",
    "model.add(LSTM(32,return_sequences = True,activation = 'tanh'))\n",
    "model.add(LSTM(16))\n",
    "#model.add(Dropout(0.2))\n",
    "model.add(Dense(3,kernel_initializer = 'normal')) # output 4 target variables"
   ]
  },
  {
   "cell_type": "markdown",
   "id": "a0ab7fa2",
   "metadata": {},
   "source": [
    "#### Training"
   ]
  },
  {
   "cell_type": "code",
   "execution_count": 49,
   "id": "e206da5d",
   "metadata": {},
   "outputs": [
    {
     "name": "stdout",
     "output_type": "stream",
     "text": [
      "Epoch 1/100\n",
      "3691/3691 - 12s - loss: 0.2892\n",
      "Epoch 2/100\n",
      "3691/3691 - 6s - loss: 0.2568\n",
      "Epoch 3/100\n",
      "3691/3691 - 6s - loss: 0.2383\n",
      "Epoch 4/100\n",
      "3691/3691 - 6s - loss: 0.2272\n",
      "Epoch 5/100\n",
      "3691/3691 - 6s - loss: 0.2218\n",
      "Epoch 6/100\n",
      "3691/3691 - 6s - loss: 0.2196\n",
      "Epoch 7/100\n",
      "3691/3691 - 6s - loss: 0.2187\n",
      "Epoch 8/100\n",
      "3691/3691 - 6s - loss: 0.2184\n",
      "Epoch 9/100\n",
      "3691/3691 - 7s - loss: 0.2183\n",
      "Epoch 10/100\n",
      "3691/3691 - 6s - loss: 0.2183\n",
      "Epoch 11/100\n",
      "3691/3691 - 6s - loss: 0.2183\n",
      "Epoch 12/100\n",
      "3691/3691 - 7s - loss: 0.2182\n",
      "Epoch 13/100\n",
      "3691/3691 - 6s - loss: 0.2182\n",
      "Epoch 14/100\n",
      "3691/3691 - 6s - loss: 0.2182\n",
      "Epoch 15/100\n",
      "3691/3691 - 6s - loss: 0.2182\n",
      "Epoch 16/100\n",
      "3691/3691 - 6s - loss: 0.2182\n",
      "Epoch 17/100\n",
      "3691/3691 - 6s - loss: 0.2182\n",
      "Epoch 18/100\n",
      "3691/3691 - 6s - loss: 0.2182\n",
      "Epoch 19/100\n",
      "3691/3691 - 7s - loss: 0.2182\n",
      "Epoch 20/100\n",
      "3691/3691 - 6s - loss: 0.2182\n",
      "Epoch 21/100\n",
      "3691/3691 - 6s - loss: 0.2181\n",
      "Epoch 22/100\n",
      "3691/3691 - 7s - loss: 0.2181\n",
      "Epoch 23/100\n",
      "3691/3691 - 6s - loss: 0.2181\n",
      "Epoch 24/100\n",
      "3691/3691 - 7s - loss: 0.2181\n",
      "Epoch 25/100\n",
      "3691/3691 - 6s - loss: 0.2181\n",
      "Epoch 26/100\n",
      "3691/3691 - 7s - loss: 0.2181\n",
      "Epoch 27/100\n",
      "3691/3691 - 7s - loss: 0.2181\n",
      "Epoch 28/100\n",
      "3691/3691 - 6s - loss: 0.2181\n",
      "Epoch 29/100\n",
      "3691/3691 - 7s - loss: 0.2180\n",
      "Epoch 30/100\n",
      "3691/3691 - 6s - loss: 0.2180\n",
      "Epoch 31/100\n",
      "3691/3691 - 6s - loss: 0.2180\n",
      "Epoch 32/100\n",
      "3691/3691 - 6s - loss: 0.2180\n",
      "Epoch 33/100\n",
      "3691/3691 - 6s - loss: 0.2180\n",
      "Epoch 34/100\n",
      "3691/3691 - 7s - loss: 0.2180\n",
      "Epoch 35/100\n",
      "3691/3691 - 6s - loss: 0.2180\n",
      "Epoch 36/100\n",
      "3691/3691 - 7s - loss: 0.2179\n",
      "Epoch 37/100\n",
      "3691/3691 - 6s - loss: 0.2179\n",
      "Epoch 38/100\n",
      "3691/3691 - 6s - loss: 0.2179\n",
      "Epoch 39/100\n",
      "3691/3691 - 7s - loss: 0.2179\n",
      "Epoch 40/100\n",
      "3691/3691 - 6s - loss: 0.2179\n",
      "Epoch 41/100\n",
      "3691/3691 - 6s - loss: 0.2179\n",
      "Epoch 42/100\n",
      "3691/3691 - 6s - loss: 0.2179\n",
      "Epoch 43/100\n",
      "3691/3691 - 6s - loss: 0.2178\n",
      "Epoch 44/100\n",
      "3691/3691 - 7s - loss: 0.2178\n",
      "Epoch 45/100\n",
      "3691/3691 - 6s - loss: 0.2178\n",
      "Epoch 46/100\n",
      "3691/3691 - 7s - loss: 0.2178\n",
      "Epoch 47/100\n",
      "3691/3691 - 6s - loss: 0.2178\n",
      "Epoch 48/100\n",
      "3691/3691 - 6s - loss: 0.2178\n",
      "Epoch 49/100\n",
      "3691/3691 - 7s - loss: 0.2177\n",
      "Epoch 50/100\n",
      "3691/3691 - 6s - loss: 0.2177\n",
      "Epoch 51/100\n",
      "3691/3691 - 7s - loss: 0.2177\n",
      "Epoch 52/100\n",
      "3691/3691 - 6s - loss: 0.2177\n",
      "Epoch 53/100\n",
      "3691/3691 - 6s - loss: 0.2177\n",
      "Epoch 54/100\n",
      "3691/3691 - 7s - loss: 0.2176\n",
      "Epoch 55/100\n",
      "3691/3691 - 7s - loss: 0.2176\n",
      "Epoch 56/100\n",
      "3691/3691 - 7s - loss: 0.2176\n",
      "Epoch 57/100\n",
      "3691/3691 - 6s - loss: 0.2176\n",
      "Epoch 58/100\n",
      "3691/3691 - 6s - loss: 0.2176\n",
      "Epoch 59/100\n",
      "3691/3691 - 7s - loss: 0.2175\n",
      "Epoch 60/100\n",
      "3691/3691 - 6s - loss: 0.2175\n",
      "Epoch 61/100\n",
      "3691/3691 - 6s - loss: 0.2175\n",
      "Epoch 62/100\n",
      "3691/3691 - 6s - loss: 0.2175\n",
      "Epoch 63/100\n",
      "3691/3691 - 6s - loss: 0.2174\n",
      "Epoch 64/100\n",
      "3691/3691 - 7s - loss: 0.2174\n",
      "Epoch 65/100\n",
      "3691/3691 - 6s - loss: 0.2174\n",
      "Epoch 66/100\n",
      "3691/3691 - 6s - loss: 0.2174\n",
      "Epoch 67/100\n",
      "3691/3691 - 6s - loss: 0.2173\n",
      "Epoch 68/100\n",
      "3691/3691 - 6s - loss: 0.2173\n",
      "Epoch 69/100\n",
      "3691/3691 - 7s - loss: 0.2173\n",
      "Epoch 70/100\n",
      "3691/3691 - 7s - loss: 0.2172\n",
      "Epoch 71/100\n",
      "3691/3691 - 7s - loss: 0.2172\n",
      "Epoch 72/100\n",
      "3691/3691 - 6s - loss: 0.2172\n",
      "Epoch 73/100\n",
      "3691/3691 - 6s - loss: 0.2171\n",
      "Epoch 74/100\n",
      "3691/3691 - 7s - loss: 0.2171\n",
      "Epoch 75/100\n",
      "3691/3691 - 6s - loss: 0.2171\n",
      "Epoch 76/100\n",
      "3691/3691 - 7s - loss: 0.2170\n",
      "Epoch 77/100\n",
      "3691/3691 - 6s - loss: 0.2170\n",
      "Epoch 78/100\n",
      "3691/3691 - 6s - loss: 0.2170\n",
      "Epoch 79/100\n",
      "3691/3691 - 6s - loss: 0.2169\n",
      "Epoch 80/100\n",
      "3691/3691 - 6s - loss: 0.2169\n",
      "Epoch 81/100\n",
      "3691/3691 - 7s - loss: 0.2169\n",
      "Epoch 82/100\n",
      "3691/3691 - 6s - loss: 0.2168\n",
      "Epoch 83/100\n",
      "3691/3691 - 6s - loss: 0.2168\n",
      "Epoch 84/100\n",
      "3691/3691 - 7s - loss: 0.2168\n",
      "Epoch 85/100\n",
      "3691/3691 - 6s - loss: 0.2167\n",
      "Epoch 86/100\n",
      "3691/3691 - 7s - loss: 0.2167\n",
      "Epoch 87/100\n",
      "3691/3691 - 6s - loss: 0.2166\n",
      "Epoch 88/100\n",
      "3691/3691 - 6s - loss: 0.2166\n",
      "Epoch 89/100\n",
      "3691/3691 - 6s - loss: 0.2166\n",
      "Epoch 90/100\n",
      "3691/3691 - 6s - loss: 0.2165\n",
      "Epoch 91/100\n",
      "3691/3691 - 6s - loss: 0.2165\n",
      "Epoch 92/100\n",
      "3691/3691 - 6s - loss: 0.2164\n",
      "Epoch 93/100\n",
      "3691/3691 - 6s - loss: 0.2164\n",
      "Epoch 94/100\n",
      "3691/3691 - 7s - loss: 0.2163\n",
      "Epoch 95/100\n",
      "3691/3691 - 9s - loss: 0.2163\n",
      "Epoch 96/100\n",
      "3691/3691 - 7s - loss: 0.2162\n",
      "Epoch 97/100\n",
      "3691/3691 - 7s - loss: 0.2162\n",
      "Epoch 98/100\n",
      "3691/3691 - 7s - loss: 0.2162\n",
      "Epoch 99/100\n",
      "3691/3691 - 7s - loss: 0.2161\n",
      "Epoch 100/100\n",
      "3691/3691 - 8s - loss: 0.2161\n"
     ]
    },
    {
     "data": {
      "text/plain": [
       "<keras.callbacks.History at 0x27c24d6ad00>"
      ]
     },
     "execution_count": 49,
     "metadata": {},
     "output_type": "execute_result"
    }
   ],
   "source": [
    "model.compile(loss = 'mean_squared_error',optimizer = 'adagrad')\n",
    "model.fit(x_train,y_train_mov, epochs = 100, batch_size = 16,verbose = 2)"
   ]
  },
  {
   "cell_type": "markdown",
   "id": "9023a317",
   "metadata": {},
   "source": [
    "#### Prediction"
   ]
  },
  {
   "cell_type": "code",
   "execution_count": 50,
   "id": "9b8b2d9a",
   "metadata": {},
   "outputs": [],
   "source": [
    "# prediction\n",
    "train_pred = model.predict(x_train)\n",
    "test_pred = model.predict(x_test)"
   ]
  },
  {
   "cell_type": "markdown",
   "id": "def6a98f",
   "metadata": {},
   "source": [
    "#### Inverse Tranformation"
   ]
  },
  {
   "cell_type": "code",
   "execution_count": 43,
   "id": "3dc600db",
   "metadata": {},
   "outputs": [
    {
     "ename": "ValueError",
     "evalue": "operands could not be broadcast together with shapes (59044,3) (4,) (59044,3) ",
     "output_type": "error",
     "traceback": [
      "\u001b[1;31m---------------------------------------------------------------------------\u001b[0m",
      "\u001b[1;31mValueError\u001b[0m                                Traceback (most recent call last)",
      "\u001b[1;32m<ipython-input-43-256b0008fa5a>\u001b[0m in \u001b[0;36m<module>\u001b[1;34m\u001b[0m\n\u001b[1;32m----> 1\u001b[1;33m \u001b[0mtrain_pred_af\u001b[0m \u001b[1;33m=\u001b[0m \u001b[0mscaler3\u001b[0m\u001b[1;33m.\u001b[0m\u001b[0minverse_transform\u001b[0m\u001b[1;33m(\u001b[0m\u001b[0mtrain_pred\u001b[0m\u001b[1;33m)\u001b[0m\u001b[1;33m\u001b[0m\u001b[1;33m\u001b[0m\u001b[0m\n\u001b[0m\u001b[0;32m      2\u001b[0m \u001b[0my_train_af\u001b[0m \u001b[1;33m=\u001b[0m \u001b[0mscaler3\u001b[0m\u001b[1;33m.\u001b[0m\u001b[0minverse_transform\u001b[0m\u001b[1;33m(\u001b[0m\u001b[0my_train\u001b[0m\u001b[1;33m)\u001b[0m\u001b[1;33m\u001b[0m\u001b[1;33m\u001b[0m\u001b[0m\n\u001b[0;32m      3\u001b[0m \u001b[0mtest_pred_af\u001b[0m \u001b[1;33m=\u001b[0m \u001b[0mscaler3\u001b[0m\u001b[1;33m.\u001b[0m\u001b[0minverse_transform\u001b[0m\u001b[1;33m(\u001b[0m\u001b[0mtest_pred\u001b[0m\u001b[1;33m)\u001b[0m\u001b[1;33m\u001b[0m\u001b[1;33m\u001b[0m\u001b[0m\n\u001b[0;32m      4\u001b[0m \u001b[0my_test_af\u001b[0m \u001b[1;33m=\u001b[0m \u001b[0mscaler3\u001b[0m\u001b[1;33m.\u001b[0m\u001b[0minverse_transform\u001b[0m\u001b[1;33m(\u001b[0m\u001b[0my_test\u001b[0m\u001b[1;33m)\u001b[0m\u001b[1;33m\u001b[0m\u001b[1;33m\u001b[0m\u001b[0m\n",
      "\u001b[1;32m~\\anaconda3\\lib\\site-packages\\sklearn\\preprocessing\\_data.py\u001b[0m in \u001b[0;36minverse_transform\u001b[1;34m(self, X)\u001b[0m\n\u001b[0;32m    459\u001b[0m                         force_all_finite=\"allow-nan\")\n\u001b[0;32m    460\u001b[0m \u001b[1;33m\u001b[0m\u001b[0m\n\u001b[1;32m--> 461\u001b[1;33m         \u001b[0mX\u001b[0m \u001b[1;33m-=\u001b[0m \u001b[0mself\u001b[0m\u001b[1;33m.\u001b[0m\u001b[0mmin_\u001b[0m\u001b[1;33m\u001b[0m\u001b[1;33m\u001b[0m\u001b[0m\n\u001b[0m\u001b[0;32m    462\u001b[0m         \u001b[0mX\u001b[0m \u001b[1;33m/=\u001b[0m \u001b[0mself\u001b[0m\u001b[1;33m.\u001b[0m\u001b[0mscale_\u001b[0m\u001b[1;33m\u001b[0m\u001b[1;33m\u001b[0m\u001b[0m\n\u001b[0;32m    463\u001b[0m         \u001b[1;32mreturn\u001b[0m \u001b[0mX\u001b[0m\u001b[1;33m\u001b[0m\u001b[1;33m\u001b[0m\u001b[0m\n",
      "\u001b[1;31mValueError\u001b[0m: operands could not be broadcast together with shapes (59044,3) (4,) (59044,3) "
     ]
    }
   ],
   "source": [
    "train_pred_af = scaler3.inverse_transform(train_pred)\n",
    "y_train_af = scaler3.inverse_transform(y_train)\n",
    "test_pred_af = scaler3.inverse_transform(test_pred)\n",
    "y_test_af = scaler3.inverse_transform(y_test)"
   ]
  },
  {
   "cell_type": "markdown",
   "id": "ac41001d",
   "metadata": {},
   "source": [
    "#### RMSE"
   ]
  },
  {
   "cell_type": "code",
   "execution_count": 45,
   "id": "ca7eb657",
   "metadata": {},
   "outputs": [
    {
     "ename": "NameError",
     "evalue": "name 'y_train_af' is not defined",
     "output_type": "error",
     "traceback": [
      "\u001b[1;31m---------------------------------------------------------------------------\u001b[0m",
      "\u001b[1;31mNameError\u001b[0m                                 Traceback (most recent call last)",
      "\u001b[1;32m<ipython-input-45-8af789ec86b1>\u001b[0m in \u001b[0;36m<module>\u001b[1;34m\u001b[0m\n\u001b[0;32m      1\u001b[0m \u001b[1;31m# y1 train\u001b[0m\u001b[1;33m\u001b[0m\u001b[1;33m\u001b[0m\u001b[1;33m\u001b[0m\u001b[0m\n\u001b[1;32m----> 2\u001b[1;33m \u001b[0mtrain_Score\u001b[0m \u001b[1;33m=\u001b[0m \u001b[0mmath\u001b[0m\u001b[1;33m.\u001b[0m\u001b[0msqrt\u001b[0m\u001b[1;33m(\u001b[0m\u001b[0mmean_squared_error\u001b[0m\u001b[1;33m(\u001b[0m\u001b[0my_train_af\u001b[0m\u001b[1;33m[\u001b[0m\u001b[1;33m:\u001b[0m\u001b[1;33m,\u001b[0m\u001b[1;36m0\u001b[0m\u001b[1;33m]\u001b[0m\u001b[1;33m,\u001b[0m\u001b[0mtrain_pred_af\u001b[0m\u001b[1;33m[\u001b[0m\u001b[1;33m:\u001b[0m\u001b[1;33m,\u001b[0m\u001b[1;36m0\u001b[0m\u001b[1;33m]\u001b[0m\u001b[1;33m)\u001b[0m\u001b[1;33m)\u001b[0m\u001b[1;33m\u001b[0m\u001b[1;33m\u001b[0m\u001b[0m\n\u001b[0m\u001b[0;32m      3\u001b[0m \u001b[0mprint\u001b[0m\u001b[1;33m(\u001b[0m\u001b[1;34m'Train RMSE y1 :'\u001b[0m \u001b[1;33m,\u001b[0m \u001b[1;33m(\u001b[0m\u001b[0mtrain_Score\u001b[0m\u001b[1;33m)\u001b[0m\u001b[1;33m)\u001b[0m\u001b[1;33m\u001b[0m\u001b[1;33m\u001b[0m\u001b[0m\n\u001b[0;32m      4\u001b[0m \u001b[1;31m# y2\u001b[0m\u001b[1;33m\u001b[0m\u001b[1;33m\u001b[0m\u001b[1;33m\u001b[0m\u001b[0m\n\u001b[0;32m      5\u001b[0m \u001b[0mtrain_Score\u001b[0m \u001b[1;33m=\u001b[0m \u001b[0mmath\u001b[0m\u001b[1;33m.\u001b[0m\u001b[0msqrt\u001b[0m\u001b[1;33m(\u001b[0m\u001b[0mmean_squared_error\u001b[0m\u001b[1;33m(\u001b[0m\u001b[0my_train_af\u001b[0m\u001b[1;33m[\u001b[0m\u001b[1;33m:\u001b[0m\u001b[1;33m,\u001b[0m\u001b[1;36m1\u001b[0m\u001b[1;33m]\u001b[0m\u001b[1;33m,\u001b[0m\u001b[0mtrain_pred_af\u001b[0m\u001b[1;33m[\u001b[0m\u001b[1;33m:\u001b[0m\u001b[1;33m,\u001b[0m\u001b[1;36m1\u001b[0m\u001b[1;33m]\u001b[0m\u001b[1;33m)\u001b[0m\u001b[1;33m)\u001b[0m\u001b[1;33m\u001b[0m\u001b[1;33m\u001b[0m\u001b[0m\n",
      "\u001b[1;31mNameError\u001b[0m: name 'y_train_af' is not defined"
     ]
    }
   ],
   "source": [
    "# y1 train\n",
    "train_Score = math.sqrt(mean_squared_error(y_train_af[:,0],train_pred_af[:,0]))\n",
    "print('Train RMSE y1 :' , (train_Score))\n",
    "# y2\n",
    "train_Score = math.sqrt(mean_squared_error(y_train_af[:,1],train_pred_af[:,1]))\n",
    "print('Train RMSE y2 :' , (train_Score))\n",
    "# y3\n",
    "train_Score = math.sqrt(mean_squared_error(y_train_af[:,2],train_pred_af[:,2]))\n",
    "print('Train RMSE y3 :' , (train_Score))\n",
    "# # y4\n",
    "# train_Score = math.sqrt(mean_squared_error(y_train_af[:,3],train_pred_af[:,3]))\n",
    "# print('Train RMSE y4 :' , (train_Score))"
   ]
  },
  {
   "cell_type": "code",
   "execution_count": null,
   "id": "80fd5684",
   "metadata": {},
   "outputs": [],
   "source": [
    "# y1 test\n",
    "test_Score = math.sqrt(mean_squared_error(y_test_af[:,0],test_pred_af[:,0]))\n",
    "print('Test RMSE y1 :', test_Score)\n",
    "# y2\n",
    "test_Score = math.sqrt(mean_squared_error(y_test_af[:,1],test_pred_af[:,1]))\n",
    "print('Test RMSE y2 :', test_Score)\n",
    "# y3\n",
    "test_Score = math.sqrt(mean_squared_error(y_test_af[:,2],test_pred_af[:,2]))\n",
    "print('Test RMSE y3 :', test_Score)\n",
    "# # y4\n",
    "# train_Score = math.sqrt(mean_squared_error(y_test_af[:,3],test_pred_af[:,3]))\n",
    "# print('Train RMSE y4 :' , (test_Score))"
   ]
  },
  {
   "cell_type": "markdown",
   "id": "5ffee6f4",
   "metadata": {},
   "source": [
    "#### Movement Prediction Error"
   ]
  },
  {
   "cell_type": "code",
   "execution_count": 51,
   "id": "3da6dcbb",
   "metadata": {},
   "outputs": [
    {
     "name": "stdout",
     "output_type": "stream",
     "text": [
      "Train RMSE y1 : 0.48585829196581654\n",
      "Train RMSE y2 : 0.43044154155612374\n",
      "Train RMSE y3 : 0.4762313505210797\n"
     ]
    }
   ],
   "source": [
    "# y1_mov train\n",
    "train_Score = math.sqrt(mean_squared_error(y_train_mov[:,0],train_pred[:,0]))\n",
    "print('Train RMSE y1 :' , (train_Score))\n",
    "# y2\n",
    "train_Score = math.sqrt(mean_squared_error(y_train_mov[:,1],train_pred[:,1]))\n",
    "print('Train RMSE y2 :' , (train_Score))\n",
    "# y3\n",
    "train_Score = math.sqrt(mean_squared_error(y_train_mov[:,2],train_pred[:,2]))\n",
    "print('Train RMSE y3 :' , (train_Score))\n",
    "# # y4\n",
    "# train_Score = math.sqrt(mean_squared_error(y_train_af[:,3],train_pred_af[:,3]))\n",
    "# print('Train RMSE y4 :' , (train_Score))"
   ]
  },
  {
   "cell_type": "code",
   "execution_count": 52,
   "id": "008c3ad4",
   "metadata": {},
   "outputs": [
    {
     "name": "stdout",
     "output_type": "stream",
     "text": [
      "Test RMSE y1 : 0.44747480140364926\n",
      "Test RMSE y2 : 0.540814551711613\n",
      "Test RMSE y3 : 0.4400262443886827\n"
     ]
    }
   ],
   "source": [
    "# y1_mov train\n",
    "test_Score = math.sqrt(mean_squared_error(y_test_mov[:,0],test_pred[:,0]))\n",
    "print('Test RMSE y1 :' , (test_Score))\n",
    "# y2\n",
    "test_Score = math.sqrt(mean_squared_error(y_test_mov[:,1],test_pred[:,1]))\n",
    "print('Test RMSE y2 :' , (test_Score))\n",
    "# y3\n",
    "test_Score = math.sqrt(mean_squared_error(y_test_mov[:,2],test_pred[:,2]))\n",
    "print('Test RMSE y3 :' , (test_Score))\n",
    "# # y4\n",
    "# train_Score = math.sqrt(mean_squared_error(y_train_af[:,3],train_pred_af[:,3]))\n",
    "# print('Train RMSE y4 :' , (train_Score))"
   ]
  },
  {
   "cell_type": "markdown",
   "id": "95468381",
   "metadata": {},
   "source": [
    "#### Cross Validation"
   ]
  },
  {
   "cell_type": "code",
   "execution_count": null,
   "id": "b90f715c",
   "metadata": {},
   "outputs": [],
   "source": []
  },
  {
   "cell_type": "code",
   "execution_count": null,
   "id": "036e9129",
   "metadata": {},
   "outputs": [],
   "source": []
  },
  {
   "cell_type": "markdown",
   "id": "a71113d4",
   "metadata": {},
   "source": [
    "#### 随便看看"
   ]
  },
  {
   "cell_type": "code",
   "execution_count": null,
   "id": "f64aaa04",
   "metadata": {
    "scrolled": true
   },
   "outputs": [],
   "source": [
    "# 看一眼 Data\n",
    "y1_pred = train_pred_af[:,0]\n",
    "y2_pred = train_pred_af[:,1]\n",
    "yy = y_train[:,0]\n",
    "yy[yy<0].shape[0] / yy.shape[0]\n",
    "#y1_pred[y1_pred<0]"
   ]
  },
  {
   "cell_type": "markdown",
   "id": "c0813f0b",
   "metadata": {},
   "source": [
    "#### Visualize"
   ]
  },
  {
   "cell_type": "code",
   "execution_count": null,
   "id": "2376d55e",
   "metadata": {},
   "outputs": [],
   "source": [
    "long = 100#len(test_pred_af)\n",
    "obs = np.arange(1,long,1)\n",
    "#====================================================\n",
    "#plt.plot(obs, test_pred_af[1:long,0], 'r', label = 'pred_y1')\n",
    "#plt.plot(obs, test_pred_af[1:long,1], 'r', label = 'pred_y2')\n",
    "plt.plot(obs, test_pred_af[1:long,2], 'y', label = 'pred_y3')\n",
    "#plt.plot(obs, train_pred_af[1:long,3], 'r', label = 'pred_y4')\n",
    "\n",
    "#plt.plot(obs, y_test_af[1:long,0], 'g', label = 'y1')\n",
    "#plt.plot(obs, y_test_af[1:long,1], 'b', label = 'y2')\n",
    "plt.plot(obs, y_test_af[1:long,2], 'tab:cyan', label = 'y3')\n",
    "#plt.plot(obs, y_train_af[1:long,3], 'tab:cyan', label = 'y4')\n",
    "plt.legend(loc = 'lower right') \n",
    "plt.show()\n",
    "\n",
    "#print(test_pred_af[1:long,0])"
   ]
  },
  {
   "cell_type": "markdown",
   "id": "b067d462",
   "metadata": {},
   "source": [
    "### Movement Prediction Visualization"
   ]
  },
  {
   "cell_type": "code",
   "execution_count": 53,
   "id": "5136f65f",
   "metadata": {},
   "outputs": [
    {
     "data": {
      "image/png": "[encoded data removed]",
      "text/plain": [
       "<Figure size 432x288 with 1 Axes>"
      ]
     },
     "metadata": {
      "needs_background": "light"
     },
     "output_type": "display_data"
    }
   ],
   "source": [
    "long = 1000#len(test_pred_af)\n",
    "obs = np.arange(1,long,1)\n",
    "#====================================================\n",
    "plt.plot(obs, test_pred[1:long,0], 'r', label = 'pred stay still')\n",
    "plt.plot(obs, test_pred[1:long,1], 'b', label = 'pred go down')\n",
    "plt.plot(obs, test_pred[1:long,2], 'y', label = 'pred go up')\n",
    "#plt.plot(obs, (test_pred[1:long,0]+test_pred[1:long,1]+test_pred[1:long,2]), 'g', label = 'summation')\n",
    "\n",
    "#plt.plot(obs, train_pred_af[1:long,3], 'r', label = 'pred_y4')\n",
    "\n",
    "#plt.plot(obs, y_test_mov[1:long,0], 'g', label = 'y1')\n",
    "#plt.plot(obs, y_test_mov[1:long,1], 'b', label = 'y2')\n",
    "#plt.plot(obs, y_test_mov[1:long,2], 'tab:cyan', label = 'y3')\n",
    "#plt.plot(obs, y_train_af[1:long,3], 'tab:cyan', label = 'y4')\n",
    "plt.legend(loc = 'lower right') \n",
    "plt.show()\n",
    "\n",
    "#print(test_pred_af[1:long,0])"
   ]
  },
  {
   "cell_type": "code",
   "execution_count": 54,
   "id": "0389178e",
   "metadata": {},
   "outputs": [
    {
     "data": {
      "image/png": "[encoded data removed]",
      "text/plain": [
       "<Figure size 432x288 with 1 Axes>"
      ]
     },
     "metadata": {
      "needs_background": "light"
     },
     "output_type": "display_data"
    }
   ],
   "source": [
    "long = 1000#len(test_pred_af)\n",
    "obs = np.arange(1,long,1)\n",
    "#====================================================\n",
    "plt.plot(obs, train_pred[1:long,0], 'r', label = 'pred stay still')\n",
    "plt.plot(obs, train_pred[1:long,1], 'b', label = 'pred go down')\n",
    "plt.plot(obs, train_pred[1:long,2], 'y', label = 'pred go up')\n",
    "#plt.plot(obs, (train_pred[1:long,0]+test_pred[1:long,1]+test_pred[1:long,2]), 'g', label = 'summation')\n",
    "\n",
    "#plt.plot(obs, train_pred_af[1:long,3], 'r', label = 'pred_y4')\n",
    "\n",
    "#plt.plot(obs, y_train_mov[1:long,0], 'g', label = 'y1')\n",
    "#plt.plot(obs, y_train_mov[1:long,1], 'b', label = 'y2')\n",
    "#plt.plot(obs, y_train_mov[1:long,2], 'tab:cyan', label = 'y3')\n",
    "#plt.plot(obs, y_train_af[1:long,3], 'tab:cyan', label = 'y4')\n",
    "plt.legend(loc = 'lower right') \n",
    "plt.show()\n",
    "\n",
    "#print(test_pred_af[1:long,0])"
   ]
  },
  {
   "cell_type": "code",
   "execution_count": null,
   "id": "e27723d6",
   "metadata": {},
   "outputs": [],
   "source": [
    "obs = np.arange(1,100,1)\n",
    "#====================================================\n",
    "plt.plot(obs, test_pred_af[1:100,1], 'r', label = 'pred_y2')\n",
    "\n",
    "plt.plot(obs, y_test_af[1:100,1], 'g', label = 'y2')\n",
    "plt.legend(loc = 'upper right')\n",
    "plt.show()"
   ]
  },
  {
   "cell_type": "markdown",
   "id": "4e223cc0",
   "metadata": {},
   "source": [
    "##### "
   ]
  }
 ],
 "metadata": {
  "kernelspec": {
   "display_name": "Python 3",
   "language": "python",
   "name": "python3"
  },
  "language_info": {
   "codemirror_mode": {
    "name": "ipython",
    "version": 3
   },
   "file_extension": ".py",
   "mimetype": "text/x-python",
   "name": "python",
   "nbconvert_exporter": "python",
   "pygments_lexer": "ipython3",
   "version": "3.8.8"
  }
 },
 "nbformat": 4,
 "nbformat_minor": 5
}
